{
 "cells": [
  {
   "cell_type": "code",
   "execution_count": 19,
   "metadata": {},
   "outputs": [],
   "source": [
    "import numpy as np\n",
    "from collections import Counter"
   ]
  },
  {
   "cell_type": "markdown",
   "metadata": {},
   "source": [
    "### Example dataset: (x1, x2, class)"
   ]
  },
  {
   "cell_type": "code",
   "execution_count": 20,
   "metadata": {},
   "outputs": [
    {
     "data": {
      "text/plain": [
       "array([5, 5])"
      ]
     },
     "execution_count": 20,
     "metadata": {},
     "output_type": "execute_result"
    }
   ],
   "source": [
    "dataset = [\n",
    "    (2, 4, \"Red\"),\n",
    "    (4, 6, \"Red\"),\n",
    "    (4, 2, \"Blue\"),\n",
    "    (6, 4, \"Blue\"),\n",
    "    (6, 6, \"Red\")]\n",
    "\n",
    "#Add new data point\n",
    "d_new = np.array([5, 5])\n",
    "d_new"
   ]
  },
  {
   "cell_type": "markdown",
   "metadata": {},
   "source": [
    "### Function to calculate Euclidean distance"
   ]
  },
  {
   "cell_type": "code",
   "execution_count": 21,
   "metadata": {},
   "outputs": [],
   "source": [
    "def eclidean_distance(point1, point2):\n",
    "    return np.sqrt(np.sum(point1 - point2)**2)"
   ]
  },
  {
   "cell_type": "markdown",
   "metadata": {},
   "source": [
    "### K-Nearest Neighbor function"
   ]
  },
  {
   "cell_type": "code",
   "execution_count": 25,
   "metadata": {},
   "outputs": [],
   "source": [
    "def k_nearest_neighor(dataset, d_new, k):\n",
    "    # Calculate distances between d_new and all dataset points\n",
    "    distances = []  \n",
    "    for data in dataset:\n",
    "        point = np.array([data[0], data[1]])\n",
    "        dist = eclidean_distance(point, d_new)\n",
    "        distances.append((dist, data[2])) # (distance, class label)\n",
    "        \n",
    "    # Sort the distances\n",
    "    distances.sort(key=lambda x:x[0])\n",
    "    \n",
    "    # Select the top k neighbors\n",
    "    k_neighors = distances[:k]\n",
    "    \n",
    "    # Get the most common class among the k neighbors\n",
    "    k_labels = [neighbor[1] for neighbor in k_neighors]\n",
    "    most_common_class = Counter(k_labels).most_common(1)[0][0]\n",
    "    return most_common_class"
   ]
  },
  {
   "cell_type": "markdown",
   "metadata": {},
   "source": [
    "### Run code with k = 3"
   ]
  },
  {
   "cell_type": "code",
   "execution_count": 23,
   "metadata": {},
   "outputs": [
    {
     "name": "stdout",
     "output_type": "stream",
     "text": [
      "The new point [5 5] is classified as: Red\n"
     ]
    }
   ],
   "source": [
    "\n",
    "k = 3\n",
    "result = k_nearest_neighor(dataset, d_new, k)\n",
    "\n",
    "print(f\"The new point {d_new} is classified as: {result}\")"
   ]
  }
 ],
 "metadata": {
  "kernelspec": {
   "display_name": "Python 3",
   "language": "python",
   "name": "python3"
  },
  "language_info": {
   "codemirror_mode": {
    "name": "ipython",
    "version": 3
   },
   "file_extension": ".py",
   "mimetype": "text/x-python",
   "name": "python",
   "nbconvert_exporter": "python",
   "pygments_lexer": "ipython3",
   "version": "3.12.4"
  }
 },
 "nbformat": 4,
 "nbformat_minor": 2
}
